{
 "cells": [
  {
   "cell_type": "code",
   "execution_count": 12,
   "metadata": {
    "collapsed": false
   },
   "outputs": [
    {
     "data": {
      "text/plain": [
       "\"SLSAPics\""
      ]
     },
     "execution_count": 12,
     "metadata": {},
     "output_type": "execute_result"
    }
   ],
   "source": [
    "savedir=\"SLSAPics\""
   ]
  },
  {
   "cell_type": "code",
   "execution_count": 13,
   "metadata": {
    "collapsed": false
   },
   "outputs": [],
   "source": [
    "if (!isdir(savedir))\n",
    "    # We need to create the directory\n",
    "    mkdir(savedir)\n",
    "    if (!isdir(savedir))\n",
    "        error(\"Tried creating directory $savedir but it didn't work! Give up now!\")\n",
    "    end\n",
    "end\n",
    "cd(savedir)"
   ]
  },
  {
   "cell_type": "code",
   "execution_count": 33,
   "metadata": {
    "collapsed": false
   },
   "outputs": [
    {
     "data": {
      "text/plain": [
       "\"B+63780\""
      ]
     },
     "execution_count": 33,
     "metadata": {},
     "output_type": "execute_result"
    }
   ],
   "source": [
    "# Picture we are interested in North Adelaide Railway Station\n",
    "picnum=\"B+63780\""
   ]
  },
  {
   "cell_type": "code",
   "execution_count": 34,
   "metadata": {
    "collapsed": false
   },
   "outputs": [
    {
     "name": "stderr",
     "output_type": "stream",
     "text": [
      "  % Total    % Received % Xferd  Average Speed   Time    Time     Time  Current\n",
      "                                 Dload  Upload   Total   Spent    Left  Speed\n",
      "100  6981  100  6981    0     0  61190      0 --:--:-- --:--:-- --:--:-- 61236\n"
     ]
    }
   ],
   "source": [
    "tilefile=\"tiles.json\"\n",
    "if (!isfile(tilefile))\n",
    "    # We probably need to get the tile information\n",
    "    download(\"http://collections.slsa.sa.gov.au/resource/$picnum/tiles.json\", tilefile)\n",
    "    if (!isfile(tilefile))\n",
    "        error(\"Tried getting the tile file but it didn't work so we give up\")\n",
    "    end\n",
    "end"
   ]
  },
  {
   "cell_type": "code",
   "execution_count": 35,
   "metadata": {
    "collapsed": false
   },
   "outputs": [
    {
     "data": {
      "text/plain": [
       "Dict{String,Any} with 1 entry:\n",
       "  \"levels\" => {[\"name\"=>\"z0\",\"height\"=>2654,\"tiles\"=>{[\"x\"=>0,\"url\"=>\"https://s…"
      ]
     },
     "execution_count": 35,
     "metadata": {},
     "output_type": "execute_result"
    }
   ],
   "source": [
    "# load the tile information into an array\n",
    "import JSON\n",
    "\n",
    "zinfo=JSON.parsefile(tilefile)"
   ]
  },
  {
   "cell_type": "code",
   "execution_count": 36,
   "metadata": {
    "collapsed": false,
    "scrolled": true
   },
   "outputs": [
    {
     "data": {
      "text/plain": [
       "5-element Array{Any,1}:\n",
       " [\"name\"=>\"z0\",\"height\"=>2654,\"tiles\"=>{[\"x\"=>0,\"url\"=>\"https://slsa-collections.s3.amazonaws.com/80/d6/c50f-78b0-560d-9f7c-66dad7b8e712.jpg\",\"y\"=>0],[\"x\"=>1,\"url\"=>\"https://slsa-collections.s3.amazonaws.com/c6/99/055a-06f1-56cd-9822-4353d4359294.jpg\",\"y\"=>0],[\"x\"=>2,\"url\"=>\"https://slsa-collections.s3.amazonaws.com/73/2c/119e-ae95-53c4-9b1e-514a1a314998.jpg\",\"y\"=>0],[\"x\"=>3,\"url\"=>\"https://slsa-collections.s3.amazonaws.com/27/a9/2a41-0da4-5d60-aa8a-d56f14e4e8e3.jpg\",\"y\"=>0],[\"x\"=>4,\"url\"=>\"https://slsa-collections.s3.amazonaws.com/1c/19/f9fd-68ed-5b18-a279-86738eadf7ad.jpg\",\"y\"=>0],[\"x\"=>5,\"url\"=>\"https://slsa-collections.s3.amazonaws.com/a8/0b/d14d-c2c9-5239-b2a4-99a2ee247fc2.jpg\",\"y\"=>0],[\"x\"=>6,\"url\"=>\"https://slsa-collections.s3.amazonaws.com/ad/d8/6ffb-cb45-5b7e-93c7-a106950120f9.jpg\",\"y\"=>0],[\"x\"=>0,\"url\"=>\"https://slsa-collections.s3.amazonaws.com/75/6c/7cf3-6cb0-5149-b50d-91d3f3c194d6.jpg\",\"y\"=>1],[\"x\"=>1,\"url\"=>\"https://slsa-collections.s3.amazonaws.com/64/9e/363d-d953-57fc-90f8-4e1e8eb6f0cf.jpg\",\"y\"=>1],[\"x\"=>2,\"url\"=>\"https://slsa-collections.s3.amazonaws.com/3f/df/f3b7-207e-5030-937c-e39f373830b6.jpg\",\"y\"=>1]  …  [\"x\"=>4,\"url\"=>\"https://slsa-collections.s3.amazonaws.com/bd/b1/8ad2-443d-5b88-ab81-8b2838d30425.jpg\",\"y\"=>4],[\"x\"=>5,\"url\"=>\"https://slsa-collections.s3.amazonaws.com/65/69/d9af-beb9-58cf-bd33-a8fe3b759b70.jpg\",\"y\"=>4],[\"x\"=>6,\"url\"=>\"https://slsa-collections.s3.amazonaws.com/8c/45/06ff-ead4-5479-8db3-0a3707e97bf5.jpg\",\"y\"=>4],[\"x\"=>0,\"url\"=>\"https://slsa-collections.s3.amazonaws.com/47/81/f196-5bc7-5381-b16f-7c93c9c453b2.jpg\",\"y\"=>5],[\"x\"=>1,\"url\"=>\"https://slsa-collections.s3.amazonaws.com/5c/ec/36c2-a410-5d26-9f55-b5447d3ce787.jpg\",\"y\"=>5],[\"x\"=>2,\"url\"=>\"https://slsa-collections.s3.amazonaws.com/f7/85/53ef-cf49-52a9-ade8-74cd42164554.jpg\",\"y\"=>5],[\"x\"=>3,\"url\"=>\"https://slsa-collections.s3.amazonaws.com/0e/7d/a6a8-106a-5663-a0f6-aae140789e79.jpg\",\"y\"=>5],[\"x\"=>4,\"url\"=>\"https://slsa-collections.s3.amazonaws.com/c6/eb/680d-e40b-5632-9eda-2ed228268004.jpg\",\"y\"=>5],[\"x\"=>5,\"url\"=>\"https://slsa-collections.s3.amazonaws.com/83/ed/799c-b6d4-5e51-9de2-13ec47de31d0.jpg\",\"y\"=>5],[\"x\"=>6,\"url\"=>\"https://slsa-collections.s3.amazonaws.com/4f/64/e019-a74f-5a1f-a4fd-e1475bef437e.jpg\",\"y\"=>5]},\"width\"=>3480]\n",
       " [\"name\"=>\"z1\",\"height\"=>1327,\"tiles\"=>{[\"x\"=>0,\"url\"=>\"https://slsa-collections.s3.amazonaws.com/57/05/fb4d-4d5a-592c-8bcf-71c83778aa7d.jpg\",\"y\"=>0],[\"x\"=>1,\"url\"=>\"https://slsa-collections.s3.amazonaws.com/56/43/6745-1d8c-5ba6-aade-9acdcdbaf397.jpg\",\"y\"=>0],[\"x\"=>2,\"url\"=>\"https://slsa-collections.s3.amazonaws.com/c1/58/6b6b-0ec1-5c73-b55a-6cb9205005bd.jpg\",\"y\"=>0],[\"x\"=>3,\"url\"=>\"https://slsa-collections.s3.amazonaws.com/7a/a0/fa8c-a6c2-5e04-9af8-b533e6f0da1d.jpg\",\"y\"=>0],[\"x\"=>0,\"url\"=>\"https://slsa-collections.s3.amazonaws.com/7c/10/0014-de72-512f-a4bb-8dab6e2f5e28.jpg\",\"y\"=>1],[\"x\"=>1,\"url\"=>\"https://slsa-collections.s3.amazonaws.com/e6/64/542b-9b4b-5d1d-832e-37b77be08afa.jpg\",\"y\"=>1],[\"x\"=>2,\"url\"=>\"https://slsa-collections.s3.amazonaws.com/3d/44/f341-82c1-562f-9067-7e52c36042cd.jpg\",\"y\"=>1],[\"x\"=>3,\"url\"=>\"https://slsa-collections.s3.amazonaws.com/f4/57/2aa2-40b9-5ac0-b11a-1e17c14143d9.jpg\",\"y\"=>1],[\"x\"=>0,\"url\"=>\"https://slsa-collections.s3.amazonaws.com/8a/53/2ac0-2e7f-5a97-9101-d42fa8e8a22e.jpg\",\"y\"=>2],[\"x\"=>1,\"url\"=>\"https://slsa-collections.s3.amazonaws.com/32/fc/1205-f451-5128-85a9-c3e139b2836d.jpg\",\"y\"=>2],[\"x\"=>2,\"url\"=>\"https://slsa-collections.s3.amazonaws.com/2a/99/3dd8-40e7-5920-9dbf-f9672eff81a6.jpg\",\"y\"=>2],[\"x\"=>3,\"url\"=>\"https://slsa-collections.s3.amazonaws.com/20/3c/2ccf-033b-5a26-83a1-c1c39663c98a.jpg\",\"y\"=>2]},\"width\"=>1740]                                                                                                                                                                                                                                                                                                                                                                                                                                                                                                                                                                                                                                                                                                                                                                                                                                                                                                                    \n",
       " [\"name\"=>\"z2\",\"height\"=>663,\"tiles\"=>{[\"x\"=>0,\"url\"=>\"https://slsa-collections.s3.amazonaws.com/88/fa/18f9-0e00-55fa-942f-2859e4392765.jpg\",\"y\"=>0],[\"x\"=>1,\"url\"=>\"https://slsa-collections.s3.amazonaws.com/ae/ec/75de-5b6b-5c10-ab6f-307b35c5d14c.jpg\",\"y\"=>0],[\"x\"=>0,\"url\"=>\"https://slsa-collections.s3.amazonaws.com/35/53/0407-6325-5759-9278-cc52b2a5daa6.jpg\",\"y\"=>1],[\"x\"=>1,\"url\"=>\"https://slsa-collections.s3.amazonaws.com/0a/12/5809-b458-55fe-9432-f91dd2f0125b.jpg\",\"y\"=>1]},\"width\"=>870]                                                                                                                                                                                                                                                                                                                                                                                                                                                                                                                                                                                                                                                                                                                                                                                                                                                                                                                                                                                                                                                                                                                                                                                                                                                                                                                                                                                                                                                                                                                                                                                                                                                                                                                                                                                                                                      \n",
       " [\"name\"=>\"z3\",\"height\"=>331,\"tiles\"=>{[\"x\"=>0,\"url\"=>\"https://slsa-collections.s3.amazonaws.com/2b/dc/ac0c-4a6a-5ae2-99ca-038c79b0dcfe.jpg\",\"y\"=>0]},\"width\"=>435]                                                                                                                                                                                                                                                                                                                                                                                                                                                                                                                                                                                                                                                                                                                                                                                                                                                                                                                                                                                                                                                                                                                                                                                                                                                                                                                                                                                                                                                                                                                                                                                                                                                                                                                                                                                                                                                                                                                                                                                                                                                                                                                                                                                \n",
       " [\"name\"=>\"z4\",\"height\"=>165,\"tiles\"=>{[\"x\"=>0,\"url\"=>\"https://slsa-collections.s3.amazonaws.com/b0/be/dd14-854a-58ad-865d-bff77a6d7152.jpg\",\"y\"=>0]},\"width\"=>217]                                                                                                                                                                                                                                                                                                                                                                                                                                                                                                                                                                                                                                                                                                                                                                                                                                                                                                                                                                                                                                                                                                                                                                                                                                                                                                                                                                                                                                                                                                                                                                                                                                                                                                                                                                                                                                                                                                                                                                                                                                                                                                                                                                                "
      ]
     },
     "execution_count": 36,
     "metadata": {},
     "output_type": "execute_result"
    }
   ],
   "source": [
    "zinfo[\"levels\"]"
   ]
  },
  {
   "cell_type": "code",
   "execution_count": 37,
   "metadata": {
    "collapsed": false
   },
   "outputs": [
    {
     "name": "stdout",
     "output_type": "stream",
     "text": [
      "z0,2654,3480\n",
      "z1,1327,1740\n",
      "z2,663,870\n",
      "z3,331,435\n",
      "z4,165,217\n"
     ]
    }
   ],
   "source": [
    "# find the element that has the largest size as well, we are greedy! Make sure its called z0 also\n",
    "for thislevel in zinfo[\"levels\"]\n",
    "    println(thislevel[\"name\"],\",\",thislevel[\"height\"],\",\",thislevel[\"width\"])\n",
    "end\n"
   ]
  },
  {
   "cell_type": "code",
   "execution_count": 38,
   "metadata": {
    "collapsed": false,
    "scrolled": true
   },
   "outputs": [
    {
     "data": {
      "text/plain": [
       "Dict{String,Any} with 4 entries:\n",
       "  \"name\"   => \"z0\"\n",
       "  \"height\" => 2654\n",
       "  \"tiles\"  => {[\"x\"=>0,\"url\"=>\"https://slsa-collections.s3.amazonaws.com/80/d6/…\n",
       "  \"width\"  => 3480"
      ]
     },
     "execution_count": 38,
     "metadata": {},
     "output_type": "execute_result"
    }
   ],
   "source": [
    "bestlevel=1\n",
    "bestimagesize=zinfo[\"levels\"][bestlevel][\"height\"]*zinfo[\"levels\"][bestlevel][\"height\"]\n",
    "# find the element that has the largest size as well, we are greedy! Make sure its called z0 also\n",
    "for thislevel in 2:length(zinfo[\"levels\"])\n",
    "    if (zinfo[\"levels\"][thislevel][\"height\"]*zinfo[\"levels\"][thislevel][\"width\"] > bestimagesize)\n",
    "        bestimagezie=zinfo[\"levels\"][thislevel][\"height\"]*zinfo[\"levels\"][thislevel][\"width\"]\n",
    "        bestlevel=thislevel\n",
    "    end\n",
    "end\n",
    "zinfo[\"levels\"][bestlevel]"
   ]
  },
  {
   "cell_type": "code",
   "execution_count": 41,
   "metadata": {
    "collapsed": false,
    "scrolled": true
   },
   "outputs": [
    {
     "name": "stderr",
     "output_type": "stream",
     "text": [
      "  % Total    % Received % Xferd  Average Speed   Time    Time     Time  Current\n",
      "                                 Dload  Upload   Total   Spent    Left  Speed\n",
      "100 67781  100 67781    0     0   177k      0 --:--:-- --:--:-- --:--:--  177k\n",
      "  % Total    % Received % Xferd  Average Speed   Time    Time     Time  Current\n",
      "                                 Dload  Upload   Total   Spent    Left  Speed\n",
      "100 83048  100 83048    0     0   179k      0 --:--:-- --:--:-- --:--:--  179k\n",
      "  % Total    % Received % Xferd  Average Speed   Time    Time     Time  Current\n",
      "                                 Dload  Upload   Total   Spent    Left  Speed\n",
      "100 83089  100 83089    0     0   201k      0 --:--:-- --:--:-- --:--:--  201k\n",
      "  % Total    % Received % Xferd  Average Speed   Time    Time     Time  Current\n",
      "                                 Dload  Upload   Total   Spent    Left  Speed\n",
      "100 73494  100 73494    0     0   181k      0 --:--:-- --:--:-- --:--:--  182k\n",
      "  % Total    % Received % Xferd  Average Speed   Time    Time     Time  Current\n",
      "                                 Dload  Upload   Total   Spent    Left  Speed\n",
      "100 69792  100 69792    0     0   178k      0 --:--:-- --:--:-- --:--:--  178k\n",
      "  % Total    % Received % Xferd  Average Speed   Time    Time     Time  Current\n",
      "                                 Dload  Upload   Total   Spent    Left  Speed\n",
      "100 70056  100 70056    0     0   206k      0 --:--:-- --:--:-- --:--:--  206k\n",
      "  % Total    % Received % Xferd  Average Speed   Time    Time     Time  Current\n",
      "                                 Dload  Upload   Total   Spent    Left  Speed\n",
      "100 77338  100 77338    0     0   212k      0 --:--:-- --:--:-- --:--:--  212k\n",
      "  % Total    % Received % Xferd  Average Speed   Time    Time     Time  Current\n",
      "                                 Dload  Upload   Total   Spent    Left  Speed\n",
      "100 46981  100 46981    0     0   143k      0 --:--:-- --:--:-- --:--:--  143k\n",
      "  % Total    % Received % Xferd  Average Speed   Time    Time     Time  Current\n",
      "                                 Dload  Upload   Total   Spent    Left  Speed\n",
      "100   99k  100   99k    0     0   257k      0 --:--:-- --:--:-- --:--:--  256k\n",
      "  % Total    % Received % Xferd  Average Speed   Time    Time     Time  Current\n",
      "                                 Dload  Upload   Total   Spent    Left  Speed\n",
      "100  136k  100  136k    0     0   358k      0 --:--:-- --:--:-- --:--:--  359k\n",
      "  % Total    % Received % Xferd  Average Speed   Time    Time     Time  Current\n",
      "                                 Dload  Upload   Total   Spent    Left  Speed\n",
      "100  138k  100  138k    0     0   331k      0 --:--:-- --:--:-- --:--:--  330k\n",
      "  % Total    % Received % Xferd  Average Speed   Time    Time     Time  Current\n",
      "                                 Dload  Upload   Total   Spent    Left  Speed\n",
      "100  112k  100  112k    0     0   298k      0 --:--:-- --:--:-- --:--:--  299k\n",
      "  % Total    % Received % Xferd  Average Speed   Time    Time     Time  Current\n",
      "                                 Dload  Upload   Total   Spent    Left  Speed\n",
      "100 83253  100 83253    0     0   239k      0 --:--:-- --:--:-- --:--:--  240k\n",
      "  % Total    % Received % Xferd  Average Speed   Time    Time     Time  Current\n",
      "                                 Dload  Upload   Total   Spent    Left  Speed\n",
      "100 88162  100 88162    0     0   222k      0 --:--:-- --:--:-- --:--:--  221k\n",
      "  % Total    % Received % Xferd  Average Speed   Time    Time     Time  Current\n",
      "                                 Dload  Upload   Total   Spent    Left  Speed\n",
      "100 53523  100 53523    0     0   164k      0 --:--:-- --:--:-- --:--:--  164k\n",
      "  % Total    % Received % Xferd  Average Speed   Time    Time     Time  Current\n",
      "                                 Dload  Upload   Total   Spent    Left  Speed\n",
      "100  109k  100  109k    0     0   301k      0 --:--:-- --:--:-- --:--:--  301k\n",
      "  % Total    % Received % Xferd  Average Speed   Time    Time     Time  Current\n",
      "                                 Dload  Upload   Total   Spent    Left  Speed\n",
      "100  119k  100  119k    0     0   265k      0 --:--:-- --:--:-- --:--:--  265k\n",
      "  % Total    % Received % Xferd  Average Speed   Time    Time     Time  Current\n",
      "                                 Dload  Upload   Total   Spent    Left  Speed\n",
      "100  130k  100  130k    0     0   270k      0 --:--:-- --:--:-- --:--:--  271k\n",
      "  % Total    % Received % Xferd  Average Speed   Time    Time     Time  Current\n",
      "                                 Dload  Upload   Total   Spent    Left  Speed\n",
      "100  139k  100  139k    0     0   260k      0 --:--:-- --:--:-- --:--:--  260k\n",
      "  % Total    % Received % Xferd  Average Speed   Time    Time     Time  Current\n",
      "                                 Dload  Upload   Total   Spent    Left  Speed\n",
      "100  141k  100  141k    0     0   349k      0 --:--:-- --:--:-- --:--:--  350k\n",
      "  % Total    % Received % Xferd  Average Speed   Time    Time     Time  Current\n",
      "                                 Dload  Upload   Total   Spent    Left  Speed\n",
      "100 98700  100 98700    0     0   181k      0 --:--:-- --:--:-- --:--:--  181k\n",
      "  % Total    % Received % Xferd  Average Speed   Time    Time     Time  Current\n",
      "                                 Dload  Upload   Total   Spent    Left  Speed\n",
      "100   99k  100   99k    0     0   165k      0 --:--:-- --:--:-- --:--:--  165k\n",
      "  % Total    % Received % Xferd  Average Speed   Time    Time     Time  Current\n",
      "                                 Dload  Upload   Total   Spent    Left  Speed\n",
      "100  110k  100  110k    0     0   229k      0 --:--:-- --:--:-- --:--:--  230k\n",
      "  % Total    % Received % Xferd  Average Speed   Time    Time     Time  Current\n",
      "                                 Dload  Upload   Total   Spent    Left  Speed\n",
      "100  135k  100  135k    0     0   234k      0 --:--:-- --:--:-- --:--:--  234k\n",
      "  % Total    % Received % Xferd  Average Speed   Time    Time     Time  Current\n",
      "                                 Dload  Upload   Total   Spent    Left  Speed\n",
      "100  116k  100  116k    0     0   213k      0 --:--:-- --:--:-- --:--:--  214k\n",
      "  % Total    % Received % Xferd  Average Speed   Time    Time     Time  Current\n",
      "                                 Dload  Upload   Total   Spent    Left  Speed\n",
      "100  129k  100  129k    0     0   274k      0 --:--:-- --:--:-- --:--:--  273k\n",
      "  % Total    % Received % Xferd  Average Speed   Time    Time     Time  Current\n",
      "                                 Dload  Upload   Total   Spent    Left  Speed\n",
      "100  138k  100  138k    0     0   260k      0 --:--:-- --:--:-- --:--:--  260k\n",
      "  % Total    % Received % Xferd  Average Speed   Time    Time     Time  Current\n",
      "                                 Dload  Upload   Total   Spent    Left  Speed\n",
      "100 93157  100 93157    0     0   232k      0 --:--:-- --:--:-- --:--:--  232k\n",
      "  % Total    % Received % Xferd  Average Speed   Time    Time     Time  Current\n",
      "                                 Dload  Upload   Total   Spent    Left  Speed\n",
      "100 84503  100 84503    0     0   173k      0 --:--:-- --:--:-- --:--:--  173k\n",
      "  % Total    % Received % Xferd  Average Speed   Time    Time     Time  Current\n",
      "                                 Dload  Upload   Total   Spent    Left  Speed\n",
      "100  120k  100  120k    0     0   166k      0 --:--:-- --:--:-- --:--:--  166k\n",
      "  % Total    % Received % Xferd  Average Speed   Time    Time     Time  Current\n",
      "                                 Dload  Upload   Total   Spent    Left  Speed\n",
      "100 94030  100 94030    0     0   171k      0 --:--:-- --:--:-- --:--:--  171k\n",
      "  % Total    % Received % Xferd  Average Speed   Time    Time     Time  Current\n",
      "                                 Dload  Upload   Total   Spent    Left  Speed\n",
      "100 65416  100 65416    0     0   135k      0 --:--:-- --:--:-- --:--:--  135k\n",
      "  % Total    % Received % Xferd  Average Speed   Time    Time     Time  Current\n",
      "                                 Dload  Upload   Total   Spent    Left  Speed\n",
      "100 77531  100 77531    0     0   188k      0 --:--:-- --:--:-- --:--:--  189k\n",
      "  % Total    % Received % Xferd  Average Speed   Time    Time     Time  Current\n",
      "                                 Dload  Upload   Total   Spent    Left  Speed\n",
      "100 83435  100 83435    0     0   137k      0 --:--:-- --:--:-- --:--:--  137k\n",
      "  % Total    % Received % Xferd  Average Speed   Time    Time     Time  Current\n",
      "                                 Dload  Upload   Total   Spent    Left  Speed\n",
      "100 81651  100 81651    0     0   151k      0 --:--:-- --:--:-- --:--:--  151k\n",
      "  % Total    % Received % Xferd  Average Speed   Time    Time     Time  Current\n",
      "                                 Dload  Upload   Total   Spent    Left  Speed\n",
      "100 18719  100 18719    0     0  35406      0 --:--:-- --:--:-- --:--:-- 35385\n",
      "  % Total    % Received % Xferd  Average Speed   Time    Time     Time  Current\n",
      "                                 Dload  Upload   Total   Spent    Left  Speed\n",
      "100 20500  100 20500    0     0  55172      0 --:--:-- --:--:-- --:--:-- 55256\n",
      "  % Total    % Received % Xferd  Average Speed   Time    Time     Time  Current\n",
      "                                 Dload  Upload   Total   Spent    Left  Speed\n",
      "100 17958  100 17958    0     0  56812      0 --:--:-- --:--:-- --:--:-- 56829\n",
      "  % Total    % Received % Xferd  Average Speed   Time    Time     Time  Current\n",
      "                                 Dload  Upload   Total   Spent    Left  Speed\n",
      "100 18860  100 18860    0     0  65403      0 --:--:-- --:--:-- --:--:-- 65944\n",
      "  % Total    % Received % Xferd  Average Speed   Time    Time     Time  Current\n",
      "                                 Dload  Upload   Total   Spent    Left  Speed\n",
      "100 21676  100 21676    0     0  52313      0 --:--:-- --:--:-- --:--:-- 52357\n",
      "  % Total    % Received % Xferd  Average Speed   Time    Time     Time  Current\n",
      "                                 Dload  Upload   Total   Spent    Left  Speed\n",
      "100 24312  100 24312    0     0  70100      0 --:--:-- --:--:-- --:--:-- 70063\n",
      "  % Total    % Received % Xferd  Average Speed   Time    Time     Time  Current\n",
      "                                 Dload  Upload   Total   Spent    Left  Speed\n",
      "100 19295  100 19295    0     0  53859      0 --:--:-- --:--:-- --:--:-- 53896\n"
     ]
    }
   ],
   "source": [
    "maxx=0\n",
    "for thistile in zinfo[\"levels\"][bestlevel][\"tiles\"]\n",
    "    download(thistile[\"url\"],\"tile$(thistile[\"y\"])$(thistile[\"x\"]).jpg\")\n",
    "    if (!isfile(\"tile$(thistile[\"y\"])$(thistile[\"x\"]).jpg\"))\n",
    "        error(\"Tried getting the tile file $(thistile[\"url\"]) but it didn't work so we give up\")\n",
    "    end\n",
    "    if (thistile[\"x\"]> maxx)\n",
    "        maxx=thistile[\"x\"]\n",
    "    end\n",
    "end"
   ]
  },
  {
   "cell_type": "code",
   "execution_count": 42,
   "metadata": {
    "collapsed": false
   },
   "outputs": [],
   "source": [
    "# run script montage -mode concatenate -tile 7x tile*.jpg result.jpg\n",
    "run(`montage -mode concatenate -tile $(maxx+1)x tile*.jpg result.jpg`)"
   ]
  },
  {
   "cell_type": "code",
   "execution_count": null,
   "metadata": {
    "collapsed": true
   },
   "outputs": [],
   "source": []
  }
 ],
 "metadata": {
  "kernelspec": {
   "display_name": "Julia 0.3.9",
   "language": "julia",
   "name": "julia-0.3"
  },
  "language_info": {
   "name": "julia",
   "version": "0.3.9"
  }
 },
 "nbformat": 4,
 "nbformat_minor": 0
}
